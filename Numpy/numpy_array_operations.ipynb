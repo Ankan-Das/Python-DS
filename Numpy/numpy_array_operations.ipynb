{
 "cells": [
  {
   "cell_type": "code",
   "execution_count": 2,
   "metadata": {},
   "outputs": [],
   "source": [
    "import numpy as np"
   ]
  },
  {
   "cell_type": "markdown",
   "metadata": {},
   "source": [
    "# Array using NumPy"
   ]
  },
  {
   "cell_type": "code",
   "execution_count": 4,
   "metadata": {},
   "outputs": [
    {
     "name": "stdout",
     "output_type": "stream",
     "text": [
      "[[2 2 3]\n",
      " [4 2 5]]\n"
     ]
    }
   ],
   "source": [
    "arr = np.array(  [ [2, 2, 3],\n",
    "                   [4, 2, 5] ]  )\n",
    "\n",
    "print(arr)"
   ]
  },
  {
   "cell_type": "code",
   "execution_count": 5,
   "metadata": {},
   "outputs": [
    {
     "name": "stdout",
     "output_type": "stream",
     "text": [
      "<class 'numpy.ndarray'>\n"
     ]
    }
   ],
   "source": [
    "print(type(arr))"
   ]
  },
  {
   "cell_type": "code",
   "execution_count": 7,
   "metadata": {},
   "outputs": [
    {
     "name": "stdout",
     "output_type": "stream",
     "text": [
      "2\n",
      "(2, 3)\n",
      "6\n",
      "int64\n"
     ]
    }
   ],
   "source": [
    "print(arr.ndim)\n",
    "print(arr.shape)\n",
    "print(arr.size)\n",
    "print(arr.dtype)"
   ]
  },
  {
   "cell_type": "code",
   "execution_count": 8,
   "metadata": {},
   "outputs": [
    {
     "name": "stdout",
     "output_type": "stream",
     "text": [
      "[[1. 2. 3.]\n",
      " [4. 5. 6.]]\n",
      "datatype of a: float64\n",
      "[1 3 2]\n",
      "datatypr of b: int64\n"
     ]
    }
   ],
   "source": [
    "#Creating array using passsed list\n",
    "a = np.array(  [ [1, 2, 3],\n",
    "                 [4, 5, 6]  ], dtype='float'  )   \n",
    "\n",
    "#creating array using passed tuple\n",
    "b = np.array((1, 3, 2))\n",
    "\n",
    "print(a)\n",
    "print(\"datatype of a:\", a.dtype)\n",
    "print(b)\n",
    "print(\"datatypr of b:\", b.dtype)"
   ]
  },
  {
   "cell_type": "code",
   "execution_count": 9,
   "metadata": {},
   "outputs": [
    {
     "name": "stdout",
     "output_type": "stream",
     "text": [
      "[[0. 0. 0. 0.]\n",
      " [0. 0. 0. 0.]\n",
      " [0. 0. 0. 0.]]\n",
      "[[6.+0.j 6.+0.j 6.+0.j]\n",
      " [6.+0.j 6.+0.j 6.+0.j]\n",
      " [6.+0.j 6.+0.j 6.+0.j]]\n"
     ]
    }
   ],
   "source": [
    "c = np.zeros((3,4))\n",
    "print(c)\n",
    "\n",
    "#a 3*3 matrix with all the values equal to 6\n",
    "d = np.full((3,3), 6, dtype = 'complex')\n",
    "print(d)"
   ]
  },
  {
   "cell_type": "markdown",
   "metadata": {},
   "source": [
    "### Array Creation Techniques"
   ]
  },
  {
   "cell_type": "code",
   "execution_count": null,
   "metadata": {},
   "outputs": [],
   "source": [
    "A = np.ones((3,2))\n",
    "print(A)\n",
    "\n",
    "B = np.random.random((3,2))\n",
    "print(B)\n",
    "\n",
    "#Sequential array with steps of 5\n",
    "f = np.arange(0, 30, 5)\n",
    "print(f)\n",
    "#Sequential array with 10 values between 0 and 5\n",
    "g = np.linspace(0, 5, 10)   #linearSpace\n",
    "print(g)"
   ]
  },
  {
   "cell_type": "markdown",
   "metadata": {},
   "source": [
    "### Array Manipulation"
   ]
  },
  {
   "cell_type": "code",
   "execution_count": 15,
   "metadata": {},
   "outputs": [
    {
     "name": "stdout",
     "output_type": "stream",
     "text": [
      "[[[1 2 3]\n",
      "  [4 5 2]]\n",
      "\n",
      " [[4 2 1]\n",
      "  [2 0 1]]]\n"
     ]
    }
   ],
   "source": [
    "#Reshaping a 3*4 array to 2*2*3\n",
    "arr1 = np.array([[1, 2, 3, 4], \n",
    "                [5, 2, 4, 2], \n",
    "                [1, 2, 0, 1]]) \n",
    "  \n",
    "newarr = arr1.reshape(2, 2, 3) \n",
    "print(newarr)"
   ]
  },
  {
   "cell_type": "code",
   "execution_count": 16,
   "metadata": {},
   "outputs": [
    {
     "name": "stdout",
     "output_type": "stream",
     "text": [
      "[1 2 3 4 5 2 4 2 1 2 0 1]\n"
     ]
    }
   ],
   "source": [
    "#Flatten the array\n",
    "flarr = arr1.flatten()\n",
    "print(flarr)"
   ]
  },
  {
   "cell_type": "markdown",
   "metadata": {},
   "source": [
    "# Array Indexing"
   ]
  },
  {
   "cell_type": "code",
   "execution_count": 17,
   "metadata": {},
   "outputs": [],
   "source": [
    "arr2 = np.array([[-1, 2, 0, 4], \n",
    "                [4, -0.5, 6, 0], \n",
    "                [2.6, 0, 7, 8], \n",
    "                [3, -7, 4, 2.0]]) "
   ]
  },
  {
   "cell_type": "code",
   "execution_count": 25,
   "metadata": {},
   "outputs": [
    {
     "name": "stdout",
     "output_type": "stream",
     "text": [
      "[[-1.  0.]\n",
      " [ 4.  6.]]\n"
     ]
    }
   ],
   "source": [
    "#Slicing Array\n",
    "temp = arr2[:2, ::2] \n",
    " \n",
    "##    arr[ <indexForStartingRow>  :  <indexForEndRow+1>  :  <inStepsOf>,\n",
    "##        <indexForStartingColumn>  :  <indexForEndColumn+1>  :  <inStepsOf>]\n",
    "\n",
    "print(temp)"
   ]
  },
  {
   "cell_type": "code",
   "execution_count": 26,
   "metadata": {},
   "outputs": [
    {
     "name": "stdout",
     "output_type": "stream",
     "text": [
      "\n",
      "Elements at indices (0, 3), (1, 2), (2, 1), (3, 0):\n",
      " [4. 6. 0. 3.]\n"
     ]
    }
   ],
   "source": [
    "# Integer array indexing \n",
    "temp1 = arr2[[0, 1, 2, 3], [3, 2, 1, 0]] \n",
    "print (\"\\nElements at indices (0, 3), (1, 2), (2, 1), (3, 0):\\n\", temp1)"
   ]
  },
  {
   "cell_type": "code",
   "execution_count": 27,
   "metadata": {},
   "outputs": [
    {
     "name": "stdout",
     "output_type": "stream",
     "text": [
      "\n",
      "Elements greater than 0:\n",
      " [2.  4.  4.  6.  2.6 7.  8.  3.  4.  2. ]\n"
     ]
    }
   ],
   "source": [
    "# boolean array indexing\n",
    "cond = arr2 > 0 # cond is a boolean array \n",
    "temp = arr2[cond] \n",
    "print (\"\\nElements greater than 0:\\n\", temp) "
   ]
  },
  {
   "cell_type": "markdown",
   "metadata": {},
   "source": [
    "# Basic Operations "
   ]
  },
  {
   "cell_type": "markdown",
   "metadata": {},
   "source": [
    "### Operations on single array"
   ]
  },
  {
   "cell_type": "code",
   "execution_count": 29,
   "metadata": {},
   "outputs": [
    {
     "name": "stdout",
     "output_type": "stream",
     "text": [
      "Adding 1 to every element: [[2 6 4]\n",
      " [9 7 5]]\n",
      "Subtracting 3 from each element: [[-2  2  0]\n",
      " [ 5  3  1]]\n",
      "Multiplying each element by 10: [[10 50 30]\n",
      " [80 60 40]]\n",
      "Squaring each element: [[ 1 25  9]\n",
      " [64 36 16]]\n"
     ]
    }
   ],
   "source": [
    "arr3 = np.array(  [ [1, 5, 3],\n",
    "                    [8, 6, 4]  ] )\n",
    "\n",
    "# add 1 to every element \n",
    "print (\"Adding 1 to every element:\", arr3 + 1) \n",
    "\n",
    "# subtract 3 from each element \n",
    "print (\"Subtracting 3 from each element:\", arr3 - 3) \n",
    "  \n",
    "# multiply each element by 10 \n",
    "print (\"Multiplying each element by 10:\", arr3 * 10) \n",
    "  \n",
    "# square each element \n",
    "print (\"Squaring each element:\", arr3**2) "
   ]
  },
  {
   "cell_type": "code",
   "execution_count": 30,
   "metadata": {},
   "outputs": [
    {
     "name": "stdout",
     "output_type": "stream",
     "text": [
      "Doubled each element of original array: [[ 2 10  6]\n",
      " [16 12  8]]\n"
     ]
    }
   ],
   "source": [
    "# modify existing array \n",
    "arr3 *= 2\n",
    "print (\"Doubled each element of original array:\", arr3) "
   ]
  },
  {
   "cell_type": "code",
   "execution_count": 31,
   "metadata": {},
   "outputs": [
    {
     "name": "stdout",
     "output_type": "stream",
     "text": [
      "\n",
      "Original array:\n",
      " [[1 2 3]\n",
      " [3 4 5]\n",
      " [9 6 0]]\n",
      "Transpose of array:\n",
      " [[1 3 9]\n",
      " [2 4 6]\n",
      " [3 5 0]]\n"
     ]
    }
   ],
   "source": [
    "# transpose of array \n",
    "arr3 = np.array([[1, 2, 3], [3, 4, 5], [9, 6, 0]]) \n",
    "  \n",
    "print (\"\\nOriginal array:\\n\", arr3) \n",
    "print (\"Transpose of array:\\n\", arr3.T) "
   ]
  },
  {
   "cell_type": "markdown",
   "metadata": {},
   "source": [
    "### Unary operators"
   ]
  },
  {
   "cell_type": "code",
   "execution_count": 32,
   "metadata": {},
   "outputs": [
    {
     "name": "stdout",
     "output_type": "stream",
     "text": [
      "Largest element is: 9\n",
      "Row-wise maximum elements: [6 7 9]\n",
      "Largest element is: 9\n",
      "Column-wise minimum elements: [1 1 2]\n"
     ]
    }
   ],
   "source": [
    "arr4 = np.array([[1, 5, 6], \n",
    "                [4, 7, 2], \n",
    "                [3, 1, 9]]) \n",
    "  \n",
    "# maximum element of array \n",
    "print (\"Largest element is:\", arr4.max()) \n",
    "print (\"Row-wise maximum elements:\", \n",
    "                    arr4.max(axis = 1)) \n",
    "  \n",
    "# minimum element of array \n",
    "print (\"Largest element is:\", arr4.max()) \n",
    "print (\"Column-wise minimum elements:\", \n",
    "                        arr4.min(axis = 0)) "
   ]
  },
  {
   "cell_type": "code",
   "execution_count": 39,
   "metadata": {},
   "outputs": [
    {
     "name": "stdout",
     "output_type": "stream",
     "text": [
      "Sum of all array elements: 38\n",
      "Sum of all array elements: [ 8 13 17]\n",
      "Sum of all array elements: [12 13 13]\n",
      "\n",
      "Cumulative sum along each row:\n",
      " [[ 1  6 12]\n",
      " [ 4 11 13]\n",
      " [ 3  4 13]]\n",
      "\n",
      "Cumulative sum along each row:\n",
      " [[ 1  5  6]\n",
      " [ 5 12  8]\n",
      " [ 8 13 17]]\n"
     ]
    }
   ],
   "source": [
    "# sum of array elements \n",
    "print (\"Sum of all array elements:\", \n",
    "                            arr4.sum()) \n",
    "print (\"Sum of all array elements:\", \n",
    "                            arr4.sum(axis = 0)) \n",
    "print (\"Sum of all array elements:\", \n",
    "                            arr4.sum(axis = 1)) \n",
    "  \n",
    "# cumulative sum along each row \n",
    "print (\"\\nCumulative sum along each row:\\n\", \n",
    "                        arr4.cumsum(axis = 1)) \n",
    "# cumulative sum along each column \n",
    "print (\"\\nCumulative sum along each row:\\n\", \n",
    "                        arr4.cumsum(axis = 0)) "
   ]
  },
  {
   "cell_type": "markdown",
   "metadata": {},
   "source": [
    "### Binary operators"
   ]
  },
  {
   "cell_type": "code",
   "execution_count": 63,
   "metadata": {},
   "outputs": [
    {
     "name": "stdout",
     "output_type": "stream",
     "text": [
      "Array sum:\n",
      " [[5 5]\n",
      " [5 5]]\n",
      "Array (Element Wise) multiplication:\n",
      " [[4 6]\n",
      " [6 4]]\n",
      "Matrix multiplication:\n",
      " [[ 8  5]\n",
      " [20 13]]\n"
     ]
    }
   ],
   "source": [
    "a = np.array([[1, 2], \n",
    "            [3, 4]]) \n",
    "b = np.array([[4, 3], \n",
    "            [2, 1]]) \n",
    "  \n",
    "# add arrays \n",
    "print (\"Array sum:\\n\", a + b) \n",
    "  \n",
    "# multiply arrays (elementwise multiplication) \n",
    "print (\"Array (Element Wise) multiplication:\\n\", a*b) \n",
    "  \n",
    "# matrix multiplication \n",
    "print (\"Matrix multiplication:\\n\", a.dot(b)) "
   ]
  },
  {
   "cell_type": "markdown",
   "metadata": {},
   "source": [
    "### Universal functions (ufunc):\n",
    "NumPy provides familiar mathematical functions such as sin, cos, exp, etc. These functions also operate elementwise on an array, producing an array as output."
   ]
  },
  {
   "cell_type": "code",
   "execution_count": 74,
   "metadata": {},
   "outputs": [
    {
     "name": "stdout",
     "output_type": "stream",
     "text": [
      "[0.         1.57079633 3.14159265]\n",
      "\n",
      "Sine values of array elements: [0.0000000e+00 1.0000000e+00 1.2246468e-16]\n"
     ]
    }
   ],
   "source": [
    "a = np.array([0, np.pi/2, np.pi])\n",
    "print(a)\n",
    "print (\"\\nSine values of array elements:\", np.sin(a)) "
   ]
  },
  {
   "cell_type": "code",
   "execution_count": 75,
   "metadata": {},
   "outputs": [
    {
     "name": "stdout",
     "output_type": "stream",
     "text": [
      "Exponent of array elements: [ 1.          2.71828183  7.3890561  20.08553692]\n",
      "Square root of array elements: [0.         1.         1.41421356 1.73205081]\n"
     ]
    }
   ],
   "source": [
    "a = np.array([0, 1, 2, 3]) \n",
    "print (\"Exponent of array elements:\", np.exp(a)) \n",
    "  \n",
    "# square root of array values \n",
    "print (\"Square root of array elements:\", np.sqrt(a)) "
   ]
  },
  {
   "cell_type": "markdown",
   "metadata": {},
   "source": [
    "### Sorting array: \n",
    "There is a simple np.sort method for sorting NumPy arrays."
   ]
  },
  {
   "cell_type": "code",
   "execution_count": 78,
   "metadata": {},
   "outputs": [
    {
     "name": "stdout",
     "output_type": "stream",
     "text": [
      "Array elements in sorted order:\n",
      " [-1  0  1  2  3  4  4  5  6]\n"
     ]
    }
   ],
   "source": [
    "a = np.array([[1, 4, 2], \n",
    "                 [3, 4, 6], \n",
    "              [0, -1, 5]]) \n",
    "  \n",
    "# sorted array \n",
    "print (\"Array elements in sorted order:\\n\", \n",
    "                    np.sort(a, axis = None)) "
   ]
  },
  {
   "cell_type": "code",
   "execution_count": 79,
   "metadata": {},
   "outputs": [
    {
     "name": "stdout",
     "output_type": "stream",
     "text": [
      "Row-wise sorted array:\n",
      " [[ 1  2  4]\n",
      " [ 3  4  6]\n",
      " [-1  0  5]]\n",
      "Column wise sort by applying merge-sort:\n",
      " [[ 0 -1  2]\n",
      " [ 1  4  5]\n",
      " [ 3  4  6]]\n"
     ]
    }
   ],
   "source": [
    "# sort array row-wise \n",
    "print (\"Row-wise sorted array:\\n\", \n",
    "                np.sort(a, axis = 1)) \n",
    "  \n",
    "# specify sort algorithm \n",
    "print (\"Column wise sort by applying merge-sort:\\n\", \n",
    "            np.sort(a, axis = 0, kind = 'mergesort')) "
   ]
  },
  {
   "cell_type": "code",
   "execution_count": 80,
   "metadata": {},
   "outputs": [
    {
     "name": "stdout",
     "output_type": "stream",
     "text": [
      "\n",
      "Array sorted by names:\n",
      " [(b'Aakash', 2009, 9. ) (b'Ajay', 2008, 8.7) (b'Hrithik', 2009, 8.5)\n",
      " (b'Pankaj', 2008, 7.9)]\n",
      "Array sorted by grauation year and then cgpa:\n",
      " [(b'Pankaj', 2008, 7.9) (b'Ajay', 2008, 8.7) (b'Hrithik', 2009, 8.5)\n",
      " (b'Aakash', 2009, 9. )]\n"
     ]
    }
   ],
   "source": [
    "# Example to show sorting of structured array \n",
    "# set alias names for dtypes \n",
    "dtypes = [('name', 'S10'), ('grad_year', int), ('cgpa', float)] \n",
    "  \n",
    "# Values to be put in array \n",
    "values = [('Hrithik', 2009, 8.5), ('Ajay', 2008, 8.7),  \n",
    "           ('Pankaj', 2008, 7.9), ('Aakash', 2009, 9.0)] \n",
    "             \n",
    "# Creating array \n",
    "arr = np.array(values, dtype = dtypes) \n",
    "print (\"\\nArray sorted by names:\\n\", \n",
    "            np.sort(arr, order = 'name')) \n",
    "              \n",
    "print (\"Array sorted by grauation year and then cgpa:\\n\", \n",
    "                np.sort(arr, order = ['grad_year', 'cgpa'])) "
   ]
  },
  {
   "cell_type": "code",
   "execution_count": 82,
   "metadata": {},
   "outputs": [
    {
     "name": "stdout",
     "output_type": "stream",
     "text": [
      "[('name', 'S10'), ('grad_year', '<i8'), ('cgpa', '<f8')]\n"
     ]
    }
   ],
   "source": [
    "print(arr.dtype)"
   ]
  },
  {
   "cell_type": "markdown",
   "metadata": {},
   "source": [
    "# ndarray"
   ]
  },
  {
   "cell_type": "markdown",
   "metadata": {},
   "source": [
    "### Numpy numpy.ndarray.\\_\\_ge\\_\\_() or \\_\\_gt\\_\\_()"
   ]
  },
  {
   "cell_type": "code",
   "execution_count": 83,
   "metadata": {},
   "outputs": [
    {
     "name": "stdout",
     "output_type": "stream",
     "text": [
      "[False False False  True  True  True]\n",
      "[[False False False  True  True  True]\n",
      " [ True  True  True False False False]]\n"
     ]
    }
   ],
   "source": [
    "# make an array with numpy \n",
    "gfg = np.array([1, 2, 3, 4, 5, 6]) \n",
    "  \n",
    "# applying numpy.__ge__() method \n",
    "print(gfg.__ge__(4)) \n",
    "\n",
    "# make an array with numpy \n",
    "gfg1 = np.array([[1, 2, 3, 4, 5, 6], \n",
    "                [6, 5, 4, 3, 2, 1]]) \n",
    "  \n",
    "# applying numpy.__ge__() method \n",
    "print(gfg1.__ge__(4)) "
   ]
  },
  {
   "cell_type": "markdown",
   "metadata": {},
   "source": [
    "### Numpy numpy.ndarray.\\_\\_or\\_\\_() or \\_\\_and\\_\\_()"
   ]
  },
  {
   "cell_type": "code",
   "execution_count": 84,
   "metadata": {},
   "outputs": [
    {
     "name": "stdout",
     "output_type": "stream",
     "text": [
      "[3 2 3 6 7]\n",
      "[[1 3 3 5 5]\n",
      " [7 5 5 3 3]]\n"
     ]
    }
   ],
   "source": [
    "# make an array with numpy \n",
    "gfg = np.array([1, 2, 3, 4, 5]) \n",
    "     \n",
    "# applying ndarray.__or__() method \n",
    "print(gfg.__or__(2)) \n",
    "\n",
    "# make an array with numpy \n",
    "gfg = np.array([[1, 2, 3, 4, 5], \n",
    "                [6, 5, 4, 3, 2]]) \n",
    "     \n",
    "# applying ndarray.__or__() method \n",
    "print(gfg.__or__(1)) "
   ]
  },
  {
   "cell_type": "markdown",
   "metadata": {},
   "source": [
    "### Numpy numpy.ndarray.\\_\\_le\\_\\_() or \\_\\_lt\\_\\_()\n",
    "We can find that which element in an array is less then or equal to the value which is provided in the parameter. It will return you numpy array with boolean type having only values True and False."
   ]
  },
  {
   "cell_type": "code",
   "execution_count": 85,
   "metadata": {},
   "outputs": [
    {
     "name": "stdout",
     "output_type": "stream",
     "text": [
      "[ True  True  True  True False False]\n",
      "[[ True  True  True  True False False]\n",
      " [False False  True  True  True  True]]\n"
     ]
    }
   ],
   "source": [
    "# make an array with numpy \n",
    "gfg = np.array([1, 2, 3, 4, 5, 6]) \n",
    "  \n",
    "# applying numpy.__le__() method \n",
    "print(gfg.__le__(4)) \n",
    "\n",
    "# make an array with numpy \n",
    "gfg = np.array([[1, 2, 3, 4, 5, 6], \n",
    "                [6, 5, 4, 3, 2, 1]]) \n",
    "  \n",
    "# applying numpy.__le__() method \n",
    "print(gfg.__le__(4)) "
   ]
  },
  {
   "cell_type": "markdown",
   "metadata": {},
   "source": [
    "### Numpy numpy.ndarray.\\_\\_ne\\_\\_() or \\_\\_eq\\_\\_()"
   ]
  },
  {
   "cell_type": "code",
   "execution_count": 92,
   "metadata": {},
   "outputs": [
    {
     "name": "stdout",
     "output_type": "stream",
     "text": [
      "[ True  True  True False  True  True]\n",
      "[[ True  True  True False  True  True]\n",
      " [ True  True False  True  True  True]]\n"
     ]
    }
   ],
   "source": [
    "# make an array with numpy \n",
    "gfg = np.array([1, 2, 3, 4, 5, 6]) \n",
    "  \n",
    "# applying numpy.__ne__() method \n",
    "print(gfg.__ne__(4)) \n",
    "\n",
    "# make an array with numpy \n",
    "gfg = np.array([[1, 2, 3, 4, 5, 6], \n",
    "                [6, 5, 4, 3, 2, 1]]) \n",
    "  \n",
    "# applying numpy.__ne__() method \n",
    "print(gfg.__ne__(4)) "
   ]
  },
  {
   "cell_type": "markdown",
   "metadata": {},
   "source": [
    "### Numpy numpy.ndarray.\\_\\_truediv\\_\\_() or \\_\\_mul\\_\\_() or \\_\\_imul\\_\\_() for all datatypes\n",
    "we can divide a particular value that is provided as a parameter in the ndarray.__truediv__() method. Value will be divided to each and every element in a numpy array."
   ]
  },
  {
   "cell_type": "code",
   "execution_count": 90,
   "metadata": {},
   "outputs": [
    {
     "name": "stdout",
     "output_type": "stream",
     "text": [
      "[0.5  1.25 1.5  2.4  2.5 ]\n",
      "[[0.33333333 0.66666667 1.         1.48333333 1.66666667]\n",
      " [2.         1.83333333 1.33333333 1.         0.87333333]]\n",
      "[[ 5.   10.   15.   22.25 25.  ]\n",
      " [30.   27.5  20.   15.   13.1 ]]\n"
     ]
    }
   ],
   "source": [
    "# make an array with numpy \n",
    "gfg = np.array([1, 2.5, 3, 4.8, 5]) \n",
    "   \n",
    "# applying ndarray.__truediv__() method \n",
    "print(gfg.__truediv__(2)) \n",
    "\n",
    "\n",
    "# make an array with numpy \n",
    "gfg = np.array([[1, 2, 3, 4.45, 5], \n",
    "                [6, 5.5, 4, 3, 2.62]]) \n",
    "   \n",
    "# applying ndarray.__truediv__() method \n",
    "print(gfg.__truediv__(3)) \n",
    "\n",
    "# applying ndarray.__mul__() method \n",
    "print(gfg.__mul__(5)) "
   ]
  },
  {
   "cell_type": "markdown",
   "metadata": {},
   "source": [
    "### Numpy numpy.ndarray.\\_\\_floordiv\\_\\_()\n",
    "divides and returns the floor value"
   ]
  },
  {
   "cell_type": "code",
   "execution_count": 99,
   "metadata": {},
   "outputs": [
    {
     "name": "stdout",
     "output_type": "stream",
     "text": [
      "[0. 1. 1. 2. 2.]\n",
      "[[0. 0. 1. 1. 1.]\n",
      " [2. 1. 1. 1. 0.]]\n"
     ]
    }
   ],
   "source": [
    "# make an array with numpy \n",
    "gfg = np.array([1, 2.5, 3, 4.8, 5]) \n",
    "   \n",
    "# applying ndarray.__floordiv__() method \n",
    "print(gfg.__floordiv__(2)) \n",
    "\n",
    "# make an array with numpy \n",
    "gfg = np.array([[1, 2, 3, 4.45, 5], \n",
    "                [6, 5.5, 4, 3, 2.62]]) \n",
    "   \n",
    "# applying ndarray.__floordiv__() method \n",
    "print(gfg.__floordiv__(3)) "
   ]
  },
  {
   "cell_type": "markdown",
   "metadata": {},
   "source": [
    "### Numpy numpy.ndarray.\\_\\_sub\\_\\_() or \\_\\_add\\_\\_()"
   ]
  },
  {
   "cell_type": "code",
   "execution_count": 91,
   "metadata": {},
   "outputs": [
    {
     "name": "stdout",
     "output_type": "stream",
     "text": [
      "[-4 -3 -2 -1  0]\n",
      "[4 5 6 7 8]\n"
     ]
    }
   ],
   "source": [
    "gfg = np.array([1, 2, 3, 4, 5]) \n",
    "   \n",
    "# applying ndarray.__sub__() method \n",
    "print(gfg.__sub__(5)) \n",
    "\n",
    "# applying ndarray.__add__() method \n",
    "print(gfg.__add__(3)) \n"
   ]
  },
  {
   "cell_type": "markdown",
   "metadata": {},
   "source": [
    "### Numpy numpy.ndarray.\\_\\_mod\\_\\_()\n",
    "Modulo"
   ]
  },
  {
   "cell_type": "code",
   "execution_count": 100,
   "metadata": {},
   "outputs": [
    {
     "name": "stdout",
     "output_type": "stream",
     "text": [
      "[1.  0.5 1.  0.8 1. ]\n",
      "[[1.   2.   0.   1.45 2.  ]\n",
      " [0.   2.5  1.   0.   2.62]]\n"
     ]
    }
   ],
   "source": [
    "# make an array with numpy \n",
    "gfg = np.array([1, 2.5, 3, 4.8, 5]) \n",
    "    \n",
    "# applying ndarray.__mod__() method \n",
    "print(gfg.__mod__(2)) \n",
    "\n",
    "# make an array with numpy \n",
    "gfg = np.array([[1, 2, 3, 4.45, 5], \n",
    "                [6, 5.5, 4, 3, 2.62]]) \n",
    "    \n",
    "# applying ndarray.__mod__() method \n",
    "print(gfg.__mod__(3)) "
   ]
  },
  {
   "cell_type": "markdown",
   "metadata": {},
   "source": [
    "### Numpy numpy.ndarray.\\_\\_divmod\\_\\_()\n",
    "In this example we can see that by using ndarray.__divmod__() method we get two arrays. One is with divided with value that is passed as parameter and other with mod values."
   ]
  },
  {
   "cell_type": "code",
   "execution_count": 102,
   "metadata": {},
   "outputs": [
    {
     "name": "stdout",
     "output_type": "stream",
     "text": [
      "(array([0, 0, 1, 1, 1]), array([1, 2, 0, 1, 2]))\n",
      "(array([[0, 0, 1, 1, 1],\n",
      "       [2, 1, 1, 1, 0]]), array([[1, 2, 0, 1, 2],\n",
      "       [0, 2, 1, 0, 2]]))\n"
     ]
    }
   ],
   "source": [
    "# make an array with numpy \n",
    "gfg = np.array([1, 2, 3, 4, 5]) \n",
    "    \n",
    "# applying ndarray.__divmod__() method \n",
    "print(gfg.__divmod__(3)) \n",
    "\n",
    "# make an array with numpy \n",
    "gfg = np.array([[1, 2, 3, 4, 5], \n",
    "                [6, 5, 4, 3, 2]]) \n",
    "    \n",
    "# applying ndarray.__divmod__() method \n",
    "print(gfg.__divmod__(3)) "
   ]
  },
  {
   "cell_type": "markdown",
   "metadata": {},
   "source": [
    "### Numpy numpy.ndarray.\\_\\_neg\\_\\_()"
   ]
  },
  {
   "cell_type": "code",
   "execution_count": 93,
   "metadata": {},
   "outputs": [
    {
     "name": "stdout",
     "output_type": "stream",
     "text": [
      "[-1  2 -3 -4 -5 -6]\n",
      "[[-1 -2  3 -4 -5 -6]\n",
      " [ 6 -5 -4 -3 -2  1]]\n"
     ]
    }
   ],
   "source": [
    "# make an array with numpy \n",
    "gfg = np.array([1, -2, 3, 4, 5, 6]) \n",
    "  \n",
    "# applying numpy.__neg__() method \n",
    "print(gfg.__neg__()) \n",
    "\n",
    "# make an array with numpy \n",
    "gfg = np.array([[1, 2, -3, 4, 5, 6], \n",
    "                [-6, 5, 4, 3, 2, -1]]) \n",
    "  \n",
    "# applying numpy.__neg__() method \n",
    "print(gfg.__neg__()) "
   ]
  },
  {
   "cell_type": "code",
   "execution_count": 95,
   "metadata": {},
   "outputs": [],
   "source": [
    "#__lshift__() and __rshift__()"
   ]
  },
  {
   "cell_type": "markdown",
   "metadata": {},
   "source": [
    "### Numpy numpy.ndarray.\\_\\_invert\\_\\_()"
   ]
  },
  {
   "cell_type": "code",
   "execution_count": 96,
   "metadata": {},
   "outputs": [
    {
     "name": "stdout",
     "output_type": "stream",
     "text": [
      "[-2 -3 -4 -5 -6]\n",
      "[[-2 -3 -4 -5 -6]\n",
      " [-7 -6 -5 -4 -3]]\n"
     ]
    }
   ],
   "source": [
    "# make an array with numpy \n",
    "gfg = np.array([1, 2, 3, 4, 5]) \n",
    "    \n",
    "# applying ndarray.__invert__() method \n",
    "print(gfg.__invert__()) \n",
    "\n",
    "# make an array with numpy \n",
    "gfg = np.array([[1, 2, 3, 4, 5], \n",
    "                [6, 5, 4, 3, 2]]) \n",
    "    \n",
    "# applying ndarray.__invert__() method \n",
    "print(gfg.__invert__()) "
   ]
  },
  {
   "cell_type": "markdown",
   "metadata": {},
   "source": [
    "### Numpy numpy.ndarray.\\_\\_pow\\_\\_()\n"
   ]
  },
  {
   "cell_type": "code",
   "execution_count": 97,
   "metadata": {},
   "outputs": [
    {
     "name": "stdout",
     "output_type": "stream",
     "text": [
      "[  1   8  27  64 125]\n",
      "[[ 1  4  9 16 25]\n",
      " [36 25 16  9  4]]\n"
     ]
    }
   ],
   "source": [
    "# make an array with numpy \n",
    "gfg = np.array([1, 2, 3, 4, 5]) \n",
    "     \n",
    "# applying ndarray.__pow__() method \n",
    "print(gfg.__pow__(3)) \n",
    "\n",
    "# make an array with numpy \n",
    "gfg = np.array([[1, 2, 3, 4, 5], \n",
    "                [6, 5, 4, 3, 2]]) \n",
    "     \n",
    "# applying ndarray.__pow__() method \n",
    "print(gfg.__pow__(2)) "
   ]
  },
  {
   "cell_type": "code",
   "execution_count": null,
   "metadata": {},
   "outputs": [],
   "source": []
  }
 ],
 "metadata": {
  "kernelspec": {
   "display_name": "Python 3",
   "language": "python",
   "name": "python3"
  },
  "language_info": {
   "codemirror_mode": {
    "name": "ipython",
    "version": 3
   },
   "file_extension": ".py",
   "mimetype": "text/x-python",
   "name": "python",
   "nbconvert_exporter": "python",
   "pygments_lexer": "ipython3",
   "version": "3.6.8"
  }
 },
 "nbformat": 4,
 "nbformat_minor": 2
}

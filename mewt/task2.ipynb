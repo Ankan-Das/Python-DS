{
 "cells": [
  {
   "cell_type": "markdown",
   "metadata": {},
   "source": [
    "## Task 2(python):\n",
    "A bag contains n balls of 3 colors(black,blue and red), each color ball is of different weight(**black - 0.25 kg, blue - 0.5 kg, red - 0.75**). You are required to make a **sum of m** with the balls such that your sack contains **minimum number of balls**.\n",
    "Please write a code(in your preferred language) to solve the same. \n",
    "Also, mention additional methods of solving the problem if you think there are any."
   ]
  },
  {
   "cell_type": "markdown",
   "metadata": {},
   "source": [
    "### Solution 1:"
   ]
  },
  {
   "cell_type": "markdown",
   "metadata": {},
   "source": [
    "**Assumption:** 'm' is a multiple of 0.25 kg assuming we don't want to break the balls to put in the bags  \n",
    "The ball with the highest weight is Red(0.75 kg). If n is such, that n number of Red balls do not add up to 'm', then it is impossible to choose a distribution of such balls.  \n",
    "Here, we consider, the number of balls, n is sufficient(unlimited).\n",
    "\n",
    "The idea here is to find out how many black balls(0.25 kg) we have to put so as to achieve a weight of m, where all the balls are black.\n",
    "\n",
    "No. of black balls = m/0.25 = B     *-----> integer*\n",
    "\n",
    "Now, as we require the number of balls to be the minimum, we will first replace every 3 black balls with one red ball.\n",
    "No. of red balls = B/3 = R\n",
    "\n",
    "So we are left with B%3 = leftover1 number of black balls.\n",
    "\n",
    "Now, we replace every 2 black balls with one blue ball.\n",
    "No. of blue balls = (leftover1)/2 = Bl\n",
    "\n",
    "Here, we are left with leftover1%2 number of black balls.\n",
    "\n",
    "Hence the final distribution of balls is:  \n",
    "**<span style=\"color:red\">Red Balls:</span>** B/3  \n",
    "**<span style=\"color:blue\">Blue Balls:</span>** leftover1/2  \n",
    "**<span style=\"color:black\">Black Balls:</span>** leftover1%2"
   ]
  },
  {
   "cell_type": "code",
   "execution_count": 20,
   "metadata": {},
   "outputs": [
    {
     "name": "stdout",
     "output_type": "stream",
     "text": [
      "Number of Red Balls:21 \n",
      "Number of Blue Balls:0 \n",
      "Number of Black Balls:0\n"
     ]
    }
   ],
   "source": [
    "# Nummber of Balls\n",
    "n = 0\n",
    "# Required Sum\n",
    "m = 15.75\n",
    "\n",
    "Red = 0        # No. of Red Balls\n",
    "Blue = 0       # No. of Red Balls\n",
    "Black = 0      # No. of Red Balls\n",
    "\n",
    "\n",
    "Black = int(m/0.25)\n",
    "# print(Black)\n",
    "\n",
    "######  Number of Red Balls  ######\n",
    "Red = int(Black/3)\n",
    "\n",
    "Black = Black%3\n",
    "\n",
    "######  Number of Blue Balls  ######\n",
    "Blue = int(Black/2)\n",
    "\n",
    "######  Number of Black Balls  ######\n",
    "Black = Black%2\n",
    "\n",
    "\n",
    "print(\"Number of Red Balls:{} \\nNumber of Blue Balls:{} \\nNumber of Black Balls:{}\".format(Red,Blue,Black))\n",
    "\n"
   ]
  },
  {
   "cell_type": "markdown",
   "metadata": {},
   "source": [
    "This turns out to be the simplest method for the given particular problem"
   ]
  },
  {
   "cell_type": "markdown",
   "metadata": {},
   "source": [
    "## Solution 2:"
   ]
  },
  {
   "cell_type": "markdown",
   "metadata": {},
   "source": [
    "Each of the elements, red, blue and black balls have value given as input by the user"
   ]
  },
  {
   "cell_type": "markdown",
   "metadata": {},
   "source": [
    "**Condition:**  \n",
    "1. The Elements should be such that the sum of elements should be greater than or equal to (m/0.25)\n",
    "\n"
   ]
  },
  {
   "cell_type": "markdown",
   "metadata": {},
   "source": [
    "Let, m = 9.50 kg\n",
    "\n",
    "let total number of balls be: (User Input)  \n",
    "Red : 8  \n",
    "Blue : 15  \n",
    "Black : 20  \n",
    "<br>\n",
    "\n",
    "Since we need the number of balls to be minimum, we start with taking as many large weight balls as possible and subsequently go down.\n",
    "<br>\n",
    "\n",
    "Here,  \n",
    "\n",
    "wt. of red balls = 0.75 kg \n",
    "\n",
    "So, the highest number of red balls that can be taken is [9.50/0.75]     ... [] is the greatest integer func  \n",
    "\n",
    "Hence, 12\n",
    "<br>\n",
    "\n",
    "But, We have only 8 Red balls, so we can take them all.\n",
    "\n",
    "<br><br>\n",
    "Remaining wt. = 9.50 - 8\\*0.75 = 9.50 - 6.0 = 3.50\n",
    "<br>\n",
    "\n",
    "Now, its the turn of Blue Balls:  \n",
    "\n",
    "wt. of blue balls = 0.50  \n",
    "\n",
    "So, the highest number of red balls that can be taken is [3.50/0.50]  \n",
    "\n",
    "Hence, 7  \n",
    "<br>\n",
    "We have 15 Blue balls. So, we can take 7 of them and our work is done as the weight margin is completely satisfied."
   ]
  },
  {
   "cell_type": "code",
   "execution_count": null,
   "metadata": {},
   "outputs": [],
   "source": []
  }
 ],
 "metadata": {
  "kernelspec": {
   "display_name": "Python 3",
   "language": "python",
   "name": "python3"
  },
  "language_info": {
   "codemirror_mode": {
    "name": "ipython",
    "version": 3
   },
   "file_extension": ".py",
   "mimetype": "text/x-python",
   "name": "python",
   "nbconvert_exporter": "python",
   "pygments_lexer": "ipython3",
   "version": "3.7.6"
  }
 },
 "nbformat": 4,
 "nbformat_minor": 4
}

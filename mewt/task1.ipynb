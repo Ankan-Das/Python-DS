{
 "cells": [
  {
   "cell_type": "markdown",
   "metadata": {},
   "source": [
    "## Task 1:  \n",
    "\n",
    "Given a list of n numbers(positive and negative), you are required to compute the **minimum positive sum** with **maximum number of elements** in the list(also return the list which makes the minimum positive sum).\n",
    "\n",
    "##############################################################################################################################\n",
    "\n",
    "Example:\n",
    "Input: 5 -4 3 -2 -3 6\n",
    "Minimum \"positive\" sum:  \n",
    "Does minimum mean the absolute minimum? For the above example, what would be the solution?  \n",
    "XXXX A. [-4 -2 -3],   minimum sum = -9 XXXX  \n",
    "B. [-4 3 -2 -3 6],   minimum sum = 0\n",
    "\n",
    "#############################################################################################################################\n"
   ]
  },
  {
   "cell_type": "markdown",
   "metadata": {},
   "source": [
    "**Assumption 1:** each element of the array < 100000  \n",
    "**Assumption 2:** Preference should be given to the minimum positive sum(0 included). Then, if we get two or more cases with the same amount of minimum positive sum, the one with maximum elements should be chosen.\n"
   ]
  },
  {
   "cell_type": "code",
   "execution_count": 84,
   "metadata": {},
   "outputs": [],
   "source": [
    "arr = [5, -4, 3, -2, -3, 6]"
   ]
  },
  {
   "cell_type": "markdown",
   "metadata": {},
   "source": [
    "## Method 1:\n",
    "Consider all subsets, calculate the sum. Take the one with the lowest positive sum. If there are more than one,\n",
    "pick the one with the higher number of elements\n",
    "\n",
    "Please run the function **minimum_positive_sum** for the method. Refer to the **Results** section."
   ]
  },
  {
   "cell_type": "code",
   "execution_count": 52,
   "metadata": {},
   "outputs": [],
   "source": [
    "import itertools\n",
    "import numpy as np"
   ]
  },
  {
   "cell_type": "code",
   "execution_count": 53,
   "metadata": {},
   "outputs": [],
   "source": [
    "def resolve_negatives(arr):\n",
    "    \n",
    "    '''\n",
    "    a function to convert all the negative numbers in an array to the highest number possible, so that\n",
    "    it becomes easy to choose the smallest positive number in the array\n",
    "\n",
    "    Inputs: \n",
    "        arr: a 1-D integer array\n",
    "\n",
    "    Output:\n",
    "        arr: a 1-D integer array same as arr, but with the negative numbers converted to +100000\n",
    "    '''\n",
    "    \n",
    "    for i in range(len(arr)):\n",
    "        if(arr[i]<0):\n",
    "            arr[i] = 100000\n",
    "            \n",
    "    return arr\n",
    "            \n",
    "    "
   ]
  },
  {
   "cell_type": "code",
   "execution_count": 86,
   "metadata": {},
   "outputs": [],
   "source": [
    "def minimum_sum_subarray(arr):\n",
    "    '''\n",
    "    Input:\n",
    "        arr: 1D integer array that needs to be resolved into sub-arrays\n",
    "    Output:\n",
    "        logs: a list of 2-D arrays, each containing the subarray and subsequent sum from each length \n",
    "            of sub-arrays\n",
    "    '''\n",
    "    ###  List to store sub-array and subsequent sum of the sun-array  ###\n",
    "    logs = []\n",
    "\n",
    "    for i in range(1,len(arr)+1):\n",
    "\n",
    "        temp = list(itertools.combinations(arr, i))     # subset of length i  \n",
    "\n",
    "        sum_arr = np.sum(temp, axis = 1)       # an array with sum of each subset\n",
    "\n",
    "        #####   since we need the lowest positive number, we convert  ####\n",
    "        #####   each negative number to the highest positive numenr  #####\n",
    "        new_sum = resolve_negatives(sum_arr)\n",
    "\n",
    "        \n",
    "        #####   Now we find the index of the minimum positive value from the sum  ####  \n",
    "        #####   ?????But this is not helpful for multiple minimum values    #####\n",
    "        min_index = np.argmin(new_sum)\n",
    "\n",
    "        \n",
    "        ##### Here, we add to the list, logs, the sub-array and the value of sum  ####\n",
    "        logs.append([temp[min_index], sum_arr[min_index]])\n",
    "        \n",
    "    return logs\n"
   ]
  },
  {
   "cell_type": "code",
   "execution_count": 87,
   "metadata": {},
   "outputs": [],
   "source": [
    "def final_subarray(logs):\n",
    "    '''\n",
    "    Input:\n",
    "        logs: A list of 2-D arrays, the output of minimum_sum_subrarray\n",
    "    Output:\n",
    "        final_arr: A list of 1-D array, each containing the subarray with the minimum sum\n",
    "        lowest_sum: The value of the lowest sum\n",
    "    '''\n",
    "    \n",
    "    #### Now we choose the sub-array with the lowest sum and the most number of elements  ####\n",
    "    temp_len = 0\n",
    "    temp_sum = 100000\n",
    "\n",
    "    final_arr = []\n",
    "\n",
    "    for i in range(len(logs)):\n",
    "        if(logs[i][1]<temp_sum):\n",
    "            temp_sum = logs[i][1]\n",
    "\n",
    "    ######  Now, temp_sum stores the value for the lowest sum  #####\n",
    "    ###   We find the array with the sum of value temp_sum and the largest length  ####\n",
    "\n",
    "    for j in logs:\n",
    "        if(j[1]!=temp_sum):\n",
    "            continue\n",
    "        else:\n",
    "            if(temp_len<len(j[0])):\n",
    "                temp_len = len(j[0])\n",
    "                ## array to be over-written with the new list of arrays\n",
    "                final_arr = list(j[0])\n",
    "            elif(temp_len==len(j[0])):\n",
    "                final_arr.append(list(j[0]))\n",
    "\n",
    "    lowest_sum = temp_sum\n",
    "    \n",
    "    return final_arr, lowest_sum"
   ]
  },
  {
   "cell_type": "code",
   "execution_count": 94,
   "metadata": {},
   "outputs": [],
   "source": [
    "def minimum_positive_sum(arr):\n",
    "    '''\n",
    "    Input:\n",
    "        arr: a 1-D Integer array\n",
    "    Output:\n",
    "        final_arr: A list of 1-D array, each containing the subarray with the minimum sum\n",
    "        lowest_sum: The value of the lowest sum\n",
    "    '''\n",
    "    \n",
    "    logs = minimum_sum_subarray(arr)\n",
    "    \n",
    "    final_arr, lowest_sum = final_subarray(logs)\n",
    "    \n",
    "    if(lowest_sum == 100000):\n",
    "        return [], \"All the Numbers are negative!\"\n",
    "    \n",
    "    return final_arr, lowest_sum\n"
   ]
  },
  {
   "cell_type": "markdown",
   "metadata": {},
   "source": [
    "## Results:"
   ]
  },
  {
   "cell_type": "code",
   "execution_count": 96,
   "metadata": {},
   "outputs": [
    {
     "name": "stdout",
     "output_type": "stream",
     "text": [
      "([2], 2)\n",
      "([], 'All the Numbers are negative!')\n",
      "([-4, 4, -8, 8, 9, -5, 5, -9], 0)\n",
      "([-4, 4, -8, 8, 9, -5, 5, -9], 0)\n"
     ]
    }
   ],
   "source": [
    "arr1 = [5, 8, 9, 2, 11, 6]\n",
    "arr2 = [-4, -5, -2, -5, -4, -8]\n",
    "arr3 = [-4, 4, -8, 8, 9, -5, 5, -9, -5]\n",
    "arr4 = [-4, 4, -8, 8, 9, -5, 5, -9, -5, 3]\n",
    "\n",
    "print(minimum_positive_sum(arr1))\n",
    "print(minimum_positive_sum(arr2))\n",
    "print(minimum_positive_sum(arr3))\n",
    "print(minimum_positive_sum(arr4))"
   ]
  },
  {
   "cell_type": "code",
   "execution_count": null,
   "metadata": {},
   "outputs": [],
   "source": []
  },
  {
   "cell_type": "markdown",
   "metadata": {},
   "source": [
    "## Method 2: "
   ]
  },
  {
   "cell_type": "markdown",
   "metadata": {},
   "source": [
    "arr = [2, 4, -3, 8, -5]\n",
    "\n",
    "We separate out the positive and negative numbers and store them in separate lists\n",
    "\n",
    "<span style=\"color:red\">Exceptions:</span>\n",
    "1. If all the elements are +ve, the solution is the singular sub-array containing the smallest integer\n",
    "2. If al the elements are -ve, the solution is not possible, as in no way, the sum adds up to a positive number.\n",
    "\n",
    "<br>\n",
    "\n",
    "positive = [2, 4, 8]      negative = [-3,-5]\n",
    "\n",
    "Here,\n",
    "length of negative < length of positive\n",
    "\n",
    "For each positive element (or a group of elements), we combine them with the negative elements, singly and group wise and evaluate the sum. We store the array as well the corresponding value of the sum.\n",
    "\n",
    "\n",
    "\n",
    "**one element each:**\n",
    "\n",
    "<span style=\"color:blue\">[2]</span> & <span style=\"color:blue\">[-3]</span> : sum = <span style=\"color:red\">**-1** ...... Skip (-ve number)</span>  \n",
    "<span style=\"color:blue\">[2]</span> & <span style=\"color:blue\">[-5]</span> : sum = <span style=\"color:red\">**-3** ...... Skip (-ve number)</span>  \n",
    "Since, both the results are -ve, we go to the next +ve element  \n",
    "\n",
    "\n",
    "<span style=\"color:blue\">[4]</span> & <span style=\"color:blue\">[-3]</span> : sum = 1  \n",
    "<span style=\"color:blue\">[4]</span> & <span style=\"color:blue\">[-5]</span> : sum = <span style=\"color:red\">**-1** ...... Skip (-ve number)</span>  \n",
    "Since one of the numbers is +ve,  \n",
    "<span style=\"color:blue\">[4]</span> & <span style=\"color:blue\">[-3,-5]</span> : sum = <span style=\"color:red\">**-4** ...... Skip (-ve number)</span>  \n",
    "\n",
    "\n",
    "<span style=\"color:blue\">[8]</span> & <span style=\"color:blue\">[-3]</span> : sum = 5  \n",
    "<span style=\"color:blue\">[8]</span> & <span style=\"color:blue\">[-5]</span> : sum = 3  \n",
    "Since one of the numbers is +ve,  \n",
    "<span style=\"color:blue\">[8]</span> & <span style=\"color:blue\">[-3,-5]</span> : sum = 0\n",
    "\n",
    "We store the ones with the minimum sum and then the maximum elements, in this case, **<span style=\"color:blue\">[8]</span> & <span style=\"color:blue\">[-3,-5]</span> : sum = 0**\n",
    "\n",
    "<br><br>\n",
    "\n",
    "\n",
    "**two elements each:**\n",
    "\n",
    "<span style=\"color:blue\">[2,4]</span> & <span style=\"color:blue\">[-3]</span> : sum = **3**  \n",
    "<span style=\"color:blue\">[2,4]</span> & <span style=\"color:blue\">[-5]</span> : sum = **1**  \n",
    "Since one of the numbers is +ve,  \n",
    "<span style=\"color:blue\">[2,4]</span> & <span style=\"color:blue\">[-3,-5]</span> : sum = <span style=\"color:red\">**-2** ...... Skip (-ve number)</span>  \n",
    "\n",
    "\n",
    "<span style=\"color:blue\">[4,8]</span> & <span style=\"color:blue\">[-3]</span> : sum = **9**  \n",
    "<span style=\"color:blue\">[4,8]</span> & <span style=\"color:blue\">[-5]</span> : sum = **7**  \n",
    "Since one of the numbers is +ve,  \n",
    "<span style=\"color:blue\">[4,8]</span> & <span style=\"color:blue\">[-3,-5]</span> : sum = **4**  \n",
    "\n",
    "\n",
    "<span style=\"color:blue\">[8,2]</span> & <span style=\"color:blue\">[-3]</span> : sum = **7**  \n",
    "<span style=\"color:blue\">[8,2]</span> & <span style=\"color:blue\">[-5]</span> : sum = **5**  \n",
    "Since one of the numbers is +ve,  \n",
    "<span style=\"color:blue\">[8,2]</span> & <span style=\"color:blue\">[-3,-5]</span> : sum = **2**  \n",
    "\n",
    "We store the ones with the minimum sum and then the maximum elements, in this case, **<span style=\"color:blue\">[2,4]</span> & <span style=\"color:blue\">[-5]</span> : sum = 1**  \n",
    "\n",
    "<br><br>\n",
    "\n",
    "**three elements each:**  \n",
    "\n",
    "<span style=\"color:blue\">[2,4,8]</span> & <span style=\"color:blue\">[-3]</span> : sum = **11**  \n",
    "<span style=\"color:blue\">[2,4,8]</span> & <span style=\"color:blue\">[-5]</span> : sum = **9**  \n",
    "Since one of the numbers is +ve,  \n",
    "<span style=\"color:blue\">[2,4,8]</span> & <span style=\"color:blue\">[-3,-5]</span> : sum = **6**  \n",
    "\n",
    "We store the ones with the minimum sum and then the maximum elements, in this case, **<span style=\"color:blue\">[2,4,8]</span> & <span style=\"color:blue\">[-3,-5]</span> : sum = 6**\n",
    "\n",
    "<br><br>\n",
    "\n",
    "Now, the result from each round, needs to looked over and be decided what the final answer should be.\n",
    "<br>\n",
    "Clearly, \n",
    "The subarray, <span style=\"color:blue\">**[8,-3,-5]**</span> with a **sum of 0** wins!!"
   ]
  },
  {
   "cell_type": "code",
   "execution_count": null,
   "metadata": {},
   "outputs": [],
   "source": []
  }
 ],
 "metadata": {
  "kernelspec": {
   "display_name": "Python 3",
   "language": "python",
   "name": "python3"
  },
  "language_info": {
   "codemirror_mode": {
    "name": "ipython",
    "version": 3
   },
   "file_extension": ".py",
   "mimetype": "text/x-python",
   "name": "python",
   "nbconvert_exporter": "python",
   "pygments_lexer": "ipython3",
   "version": "3.7.6"
  }
 },
 "nbformat": 4,
 "nbformat_minor": 4
}
